{
  "nbformat": 4,
  "nbformat_minor": 0,
  "metadata": {
    "colab": {
      "provenance": []
    },
    "kernelspec": {
      "name": "python3",
      "display_name": "Python 3"
    },
    "language_info": {
      "name": "python"
    }
  },
  "cells": [
    {
      "cell_type": "code",
      "execution_count": 8,
      "metadata": {
        "id": "YzohLVvdT6Ff"
      },
      "outputs": [],
      "source": [
        "\n",
        "import pandas as pd\n",
        "import numpy as np\n",
        "import matplotlib.pyplot as plt\n",
        "import seaborn as sns\n",
        "import folium\n",
        "from folium.plugins import MarkerCluster\n",
        "from sklearn.ensemble import RandomForestClassifier\n",
        "from sklearn.model_selection import train_test_split\n",
        "from sklearn.metrics import classification_report, confusion_matrix\n",
        "from sklearn.preprocessing import LabelEncoder\n",
        "\n"
      ]
    },
    {
      "cell_type": "code",
      "source": [
        "# 1. Load Semua Dataset\n",
        "# ----------------------\n",
        "# Verify that the files exist in the /mnt/data directory using !ls above.\n",
        "# If they exist and the path is correct, the code below should run without FileNotFoundError.\n",
        "df_non = pd.read_csv(\"2_Bogor_non_spasial_full.csv\")\n",
        "df_curah = pd.read_csv(\"1_Bogor_curah_hujan_full.csv\")\n",
        "df_lahan = pd.read_csv(\"4_Bogor_penggunaan_lahan_full.csv\")\n",
        "df_banjir = pd.read_csv(\"3_Bogor_riwayat_banjir_full.csv\")\n",
        "df_prediksi = pd.read_csv(\"5_Bogor_prediksi_banjir_full.csv\")"
      ],
      "metadata": {
        "id": "Fn8urI_dT9PI"
      },
      "execution_count": 12,
      "outputs": []
    },
    {
      "cell_type": "code",
      "source": [
        "# 2. Preprocessing\n",
        "# ----------------------\n",
        "# Rata-rata curah hujan tahunan per kecamatan\n",
        "curah_tahunan = df_curah.groupby('kecamatan')['curah_hujan_mm'].mean().reset_index()\n",
        "curah_tahunan.rename(columns={'curah_hujan_mm': 'rata_curah_hujan_mm'}, inplace=True)\n",
        "\n",
        "# Rata-rata riwayat banjir\n",
        "banjir_rata = df_banjir.groupby('kecamatan')['jumlah_banjir'].mean().reset_index()\n",
        "banjir_rata.rename(columns={'jumlah_banjir': 'rata_kejadian_banjir'}, inplace=True)\n",
        "\n",
        "# Gabungkan semua data\n",
        "merged = df_non.merge(curah_tahunan, on='kecamatan')\\\n",
        "                .merge(df_lahan, on='kecamatan')\\\n",
        "                .merge(banjir_rata, on='kecamatan')\\\n",
        "                .merge(df_prediksi[['kecamatan','Prediksi_Banjir']], on='kecamatan')"
      ],
      "metadata": {
        "id": "A45w4EmOXA6L"
      },
      "execution_count": 13,
      "outputs": []
    },
    {
      "cell_type": "code",
      "source": [
        "\n",
        "# 3. Encoding Label\n",
        "# ----------------------\n",
        "label_map = {'Rendah': 0, 'Sedang': 1, 'Tinggi': 2}\n",
        "merged['label'] = merged['Prediksi_Banjir'].map(label_map)"
      ],
      "metadata": {
        "id": "13tURdxxXDom"
      },
      "execution_count": 14,
      "outputs": []
    },
    {
      "cell_type": "code",
      "source": [
        "# 4. Modeling\n",
        "# ----------------------\n",
        "X = merged.drop(columns=['kecamatan', 'Prediksi_Banjir', 'label'])\n",
        "y = merged['label']\n",
        "\n",
        "X_train, X_test, y_train, y_test = train_test_split(X, y, test_size=0.2, random_state=42)\n",
        "\n",
        "model = RandomForestClassifier(n_estimators=100, random_state=42)\n",
        "# Fit the model to the training data\n",
        "model.fit(X_train, y_train)\n",
        "\n",
        "# 5. Evaluasi Model\n",
        "# ----------------------\n",
        "y_pred = model.predict(X_test)\n",
        "print(classification_report(y_test, y_pred))"
      ],
      "metadata": {
        "colab": {
          "base_uri": "https://localhost:8080/"
        },
        "id": "qdIFzs3qXFau",
        "outputId": "c6b49a03-5e53-4104-d7ab-92c4437754ff"
      },
      "execution_count": 17,
      "outputs": [
        {
          "output_type": "stream",
          "name": "stdout",
          "text": [
            "              precision    recall  f1-score   support\n",
            "\n",
            "           0       0.00      0.00      0.00       1.0\n",
            "           1       0.00      0.00      0.00       0.0\n",
            "           2       0.00      0.00      0.00       1.0\n",
            "\n",
            "    accuracy                           0.00       2.0\n",
            "   macro avg       0.00      0.00      0.00       2.0\n",
            "weighted avg       0.00      0.00      0.00       2.0\n",
            "\n"
          ]
        },
        {
          "output_type": "stream",
          "name": "stderr",
          "text": [
            "/usr/local/lib/python3.11/dist-packages/sklearn/metrics/_classification.py:1565: UndefinedMetricWarning: Precision is ill-defined and being set to 0.0 in labels with no predicted samples. Use `zero_division` parameter to control this behavior.\n",
            "  _warn_prf(average, modifier, f\"{metric.capitalize()} is\", len(result))\n",
            "/usr/local/lib/python3.11/dist-packages/sklearn/metrics/_classification.py:1565: UndefinedMetricWarning: Recall is ill-defined and being set to 0.0 in labels with no true samples. Use `zero_division` parameter to control this behavior.\n",
            "  _warn_prf(average, modifier, f\"{metric.capitalize()} is\", len(result))\n",
            "/usr/local/lib/python3.11/dist-packages/sklearn/metrics/_classification.py:1565: UndefinedMetricWarning: Precision is ill-defined and being set to 0.0 in labels with no predicted samples. Use `zero_division` parameter to control this behavior.\n",
            "  _warn_prf(average, modifier, f\"{metric.capitalize()} is\", len(result))\n",
            "/usr/local/lib/python3.11/dist-packages/sklearn/metrics/_classification.py:1565: UndefinedMetricWarning: Recall is ill-defined and being set to 0.0 in labels with no true samples. Use `zero_division` parameter to control this behavior.\n",
            "  _warn_prf(average, modifier, f\"{metric.capitalize()} is\", len(result))\n",
            "/usr/local/lib/python3.11/dist-packages/sklearn/metrics/_classification.py:1565: UndefinedMetricWarning: Precision is ill-defined and being set to 0.0 in labels with no predicted samples. Use `zero_division` parameter to control this behavior.\n",
            "  _warn_prf(average, modifier, f\"{metric.capitalize()} is\", len(result))\n",
            "/usr/local/lib/python3.11/dist-packages/sklearn/metrics/_classification.py:1565: UndefinedMetricWarning: Recall is ill-defined and being set to 0.0 in labels with no true samples. Use `zero_division` parameter to control this behavior.\n",
            "  _warn_prf(average, modifier, f\"{metric.capitalize()} is\", len(result))\n"
          ]
        }
      ]
    },
    {
      "cell_type": "code",
      "source": [
        "# 6. Visualisasi Hasil Prediksi\n",
        "# ----------------------\n",
        "m = folium.Map(location=[-6.6, 106.8], zoom_start=11, tiles='CartoDB positron')\n",
        "marker_cluster = MarkerCluster().add_to(m)\n",
        "\n",
        "color_dict = {0: 'green', 1: 'orange', 2: 'red'}\n",
        "label_dict = {0: 'Rendah', 1: 'Sedang', 2: 'Tinggi'}\n",
        "\n",
        "# Simulasi koordinat (karena data tidak punya lat/lon asli)\n",
        "import random\n",
        "np.random.seed(42)\n",
        "merged['lat'] = -6.6 + np.random.normal(0, 0.02, len(merged))\n",
        "merged['lon'] = 106.8 + np.random.normal(0, 0.02, len(merged))\n",
        "\n",
        "for _, row in merged.iterrows():\n",
        "    bounds = [\n",
        "        [row['lat'] - 0.005, row['lon'] - 0.005],\n",
        "        [row['lat'] + 0.005, row['lon'] + 0.005]\n",
        "    ]\n",
        "    folium.Rectangle(\n",
        "        bounds=bounds,\n",
        "        color=color_dict[row['label']],\n",
        "        fill=True,\n",
        "        fill_opacity=0.7,\n",
        "        popup=folium.Popup(f\"<b>{row['kecamatan']}</b><br>Prediksi: {label_dict[row['label']]}\", max_width=250)\n",
        "    ).add_to(marker_cluster)\n",
        "\n",
        "# Tambahkan legenda statis\n",
        "legend_html = '''\n",
        "<div style=\"position: fixed; bottom: 50px; left: 50px; width: 200px; height: 100px;\n",
        "     background-color: white; z-index:9999; font-size:14px; border:2px solid grey; padding: 10px\">\n",
        "    <b>Keterangan:</b><br>\n",
        "    <i style=\"color:green\">&#9632;</i> Rawan Rendah<br>\n",
        "    <i style=\"color:orange\">&#9632;</i> Rawan Sedang<br>\n",
        "    <i style=\"color:red\">&#9632;</i> Rawan Tinggi\n",
        "</div>\n",
        "'''\n",
        "m.get_root().html.add_child(folium.Element(legend_html))\n",
        "\n",
        "# Simpan peta\n",
        "m.save(\"prediksi_banjir_bogor.html\")\n"
      ],
      "metadata": {
        "id": "JSsHBKo-XHv9"
      },
      "execution_count": 19,
      "outputs": []
    }
  ]
}